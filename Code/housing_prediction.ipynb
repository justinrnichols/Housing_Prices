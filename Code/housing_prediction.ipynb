{
  "nbformat": 4,
  "nbformat_minor": 0,
  "metadata": {
    "interpreter": {
      "hash": "1dbc2f95eefcffc886eda26f1ce036bc2da60981751ab18b5beecba46edc6281"
    },
    "kernelspec": {
      "display_name": "Python 3.9.7 64-bit ('HousingPrediction-env': venv)",
      "language": "python",
      "name": "python3"
    },
    "language_info": {
      "codemirror_mode": {
        "name": "ipython",
        "version": 3
      },
      "file_extension": ".py",
      "mimetype": "text/x-python",
      "name": "python",
      "nbconvert_exporter": "python",
      "pygments_lexer": "ipython3",
      "version": "3.9.7"
    },
    "orig_nbformat": 4,
    "colab": {
      "name": "housing_prediction.ipynb",
      "provenance": [],
      "collapsed_sections": []
    }
  },
  "cells": [
    {
      "cell_type": "code",
      "metadata": {
        "id": "tLY849FLQ4sB"
      },
      "source": [
        "import pandas as pd\n",
        "import matplotlib.pyplot as plt\n",
        "import seaborn as sns\n",
        "from sklearn import preprocessing\n",
        "from sklearn.model_selection import train_test_split, KFold\n",
        "from sklearn.linear_model import LinearRegression\n",
        "from sklearn.neighbors import KNeighborsClassifier"
      ],
      "execution_count": 3,
      "outputs": []
    },
    {
      "cell_type": "code",
      "metadata": {
        "colab": {
          "base_uri": "https://localhost:8080/",
          "height": 289
        },
        "id": "1oA0kEnDQ4sC",
        "outputId": "a5b6d6ea-7338-4744-bd75-e87f049ba5c3"
      },
      "source": [
        "# Import data\n",
        "df = pd.read_csv(\"usa_housing.csv\")\n",
        "#df.apply(pd.to_numeric)\n",
        "df.iloc[:, :-1] = df.iloc[:, :-1].apply(pd.to_numeric)\n",
        "df.head()"
      ],
      "execution_count": 4,
      "outputs": [
        {
          "output_type": "execute_result",
          "data": {
            "text/html": [
              "<div>\n",
              "<style scoped>\n",
              "    .dataframe tbody tr th:only-of-type {\n",
              "        vertical-align: middle;\n",
              "    }\n",
              "\n",
              "    .dataframe tbody tr th {\n",
              "        vertical-align: top;\n",
              "    }\n",
              "\n",
              "    .dataframe thead th {\n",
              "        text-align: right;\n",
              "    }\n",
              "</style>\n",
              "<table border=\"1\" class=\"dataframe\">\n",
              "  <thead>\n",
              "    <tr style=\"text-align: right;\">\n",
              "      <th></th>\n",
              "      <th>Avg. Area Income</th>\n",
              "      <th>Avg. Area House Age</th>\n",
              "      <th>Avg. Area Number of Rooms</th>\n",
              "      <th>Avg. Area Number of Bedrooms</th>\n",
              "      <th>Area Population</th>\n",
              "      <th>Price</th>\n",
              "      <th>Address</th>\n",
              "    </tr>\n",
              "  </thead>\n",
              "  <tbody>\n",
              "    <tr>\n",
              "      <th>0</th>\n",
              "      <td>79545.458574</td>\n",
              "      <td>5.682861</td>\n",
              "      <td>7.009188</td>\n",
              "      <td>4.09</td>\n",
              "      <td>23086.800503</td>\n",
              "      <td>1.059034e+06</td>\n",
              "      <td>208 Michael Ferry Apt. 674\\nLaurabury, NE 3701...</td>\n",
              "    </tr>\n",
              "    <tr>\n",
              "      <th>1</th>\n",
              "      <td>79248.642455</td>\n",
              "      <td>6.002900</td>\n",
              "      <td>6.730821</td>\n",
              "      <td>3.09</td>\n",
              "      <td>40173.072174</td>\n",
              "      <td>1.505891e+06</td>\n",
              "      <td>188 Johnson Views Suite 079\\nLake Kathleen, CA...</td>\n",
              "    </tr>\n",
              "    <tr>\n",
              "      <th>2</th>\n",
              "      <td>61287.067179</td>\n",
              "      <td>5.865890</td>\n",
              "      <td>8.512727</td>\n",
              "      <td>5.13</td>\n",
              "      <td>36882.159400</td>\n",
              "      <td>1.058988e+06</td>\n",
              "      <td>9127 Elizabeth Stravenue\\nDanieltown, WI 06482...</td>\n",
              "    </tr>\n",
              "    <tr>\n",
              "      <th>3</th>\n",
              "      <td>63345.240046</td>\n",
              "      <td>7.188236</td>\n",
              "      <td>5.586729</td>\n",
              "      <td>3.26</td>\n",
              "      <td>34310.242831</td>\n",
              "      <td>1.260617e+06</td>\n",
              "      <td>USS Barnett\\nFPO AP 44820</td>\n",
              "    </tr>\n",
              "    <tr>\n",
              "      <th>4</th>\n",
              "      <td>59982.197226</td>\n",
              "      <td>5.040555</td>\n",
              "      <td>7.839388</td>\n",
              "      <td>4.23</td>\n",
              "      <td>26354.109472</td>\n",
              "      <td>6.309435e+05</td>\n",
              "      <td>USNS Raymond\\nFPO AE 09386</td>\n",
              "    </tr>\n",
              "  </tbody>\n",
              "</table>\n",
              "</div>"
            ],
            "text/plain": [
              "   Avg. Area Income  ...                                            Address\n",
              "0      79545.458574  ...  208 Michael Ferry Apt. 674\\nLaurabury, NE 3701...\n",
              "1      79248.642455  ...  188 Johnson Views Suite 079\\nLake Kathleen, CA...\n",
              "2      61287.067179  ...  9127 Elizabeth Stravenue\\nDanieltown, WI 06482...\n",
              "3      63345.240046  ...                          USS Barnett\\nFPO AP 44820\n",
              "4      59982.197226  ...                         USNS Raymond\\nFPO AE 09386\n",
              "\n",
              "[5 rows x 7 columns]"
            ]
          },
          "metadata": {},
          "execution_count": 4
        }
      ]
    },
    {
      "cell_type": "code",
      "metadata": {
        "id": "hTtxKQWYQ4sD"
      },
      "source": [
        "# Creates dataframe containing all data from United States\n",
        "def get_US():\n",
        "    return df.copy()\n",
        "\n",
        "# Creates dataframe containing all data from a given state\n",
        "def get_state(state_abbr):\n",
        "    return df.loc[df['Address'].str.contains(state_abbr, case=True)].copy()\n",
        "\n",
        "# Creates dataframe containing all data from a given region\n",
        "def get_region(region):\n",
        "    states = {\n",
        "        'northeast': ['ME', 'VT', 'NH', 'MA', 'CT', 'RI', 'NY', 'PA', 'NJ', 'MD', 'DE', 'WV'],\n",
        "        'midwest': ['MI', 'OH', 'IN', 'IL', 'MO', 'KS', 'IA', 'NE', 'ND', 'SD', 'MN', 'WI'],\n",
        "        'south': ['VA', 'KY', 'NC', 'SC', 'TN', 'GA', 'FL', 'AL', 'MS', 'LA', 'TX', 'OK', 'AR'],\n",
        "        'west': ['NM', 'AZ', 'CA', 'CO', 'UT', 'NV', 'WY', 'ID', 'OR', 'WA', 'MT', 'AK', 'HI'],\n",
        "    }\n",
        "    states_df = [get_state(state) for state in states[region]]\n",
        "    return pd.concat(states_df, ignore_index=True)"
      ],
      "execution_count": 5,
      "outputs": []
    },
    {
      "cell_type": "code",
      "metadata": {
        "id": "SYJCBa2lQ4sD"
      },
      "source": [
        "## Correleation plots \n",
        "# sns.heatmap(df.corr())\n",
        "# sns.PairGrid(df, hue=\"Price\").map(plt.scatter).add_legend() "
      ],
      "execution_count": 6,
      "outputs": []
    },
    {
      "cell_type": "markdown",
      "metadata": {
        "id": "WxCmJMOaQ4sE"
      },
      "source": [
        "# KNN\n",
        "\n",
        "Data needs to be categorizable, so we partitioned it in price blocks of $150,000"
      ]
    },
    {
      "cell_type": "code",
      "metadata": {
        "id": "Q9qJF7ZUQ4sG"
      },
      "source": [
        "# Uses KNN to predict housing price\n",
        "def knn(knn_df, income, house_age, num_rooms, num_bedrooms, population):\n",
        "  # Partition data\n",
        "  price_interval = 150000\n",
        "  knn_df['Price'] = knn_df['Price'].apply(lambda x: int(x//price_interval))\n",
        "\n",
        "  X = knn_df.loc[:, [col for col in knn_df.columns[0:5]]].to_numpy(dtype=float)\n",
        "  y = knn_df['Price'].to_numpy(dtype=float)\n",
        "\n",
        "  # Normalize the data\n",
        "  scaler = preprocessing.StandardScaler().fit(X)\n",
        "  X_scaled = scaler.transform(X)\n",
        "  all_scores = []\n",
        "\n",
        "  # Find the best values for KFold\n",
        "  for f in range(2, 21, 2):\n",
        "      kf = KFold(f)\n",
        "      k_max_score = []\n",
        "\n",
        "      # Find the best values for KNN\n",
        "      for k in range(1, 21, 2):\n",
        "          scores = []\n",
        "\n",
        "          # Get score for the current KNN value at the KFold\n",
        "          for train_index, test_index in kf.split(X):\n",
        "              X_train, X_test = X_scaled[train_index], X_scaled[test_index]\n",
        "              y_train, y_test = y[train_index], y[test_index]\n",
        "              knn = KNeighborsClassifier(n_neighbors=k).fit(X_train, y_train)\n",
        "              scores.append(knn.score(X_test, y_test))\n",
        "\n",
        "          k_max_score.append(max(scores))\n",
        "      # Graph KFolds\n",
        "      all_scores.append(k_max_score)\n",
        "  kfold_graphs(all_scores)\n",
        "\n",
        "  # Calculate prediction\n",
        "  knn = KNeighborsClassifier(n_neighbors=13).fit(X_train, y_train)\n",
        "  knn_result = knn.predict([[income, house_age, num_rooms, num_bedrooms, population]])[0]\n",
        "  print(f\"KNN: ${knn_result * price_interval} - ${(knn_result + 1) * price_interval} | Classifier output: {knn_result}\")\n",
        "  return knn_result\n"
      ],
      "execution_count": 7,
      "outputs": []
    },
    {
      "cell_type": "code",
      "metadata": {
        "id": "3MJ7f2VgQ4sI"
      },
      "source": [
        "# Plots best K for KFold\n",
        "def kfold_graphs(all_scores):\n",
        "  plt.title(\"Max KNN score for each KFold\")\n",
        "  plt.plot(range(2, 21, 2), [max(ls) for ls in all_scores])\n",
        "  plt.xticks(range(2, 21, 2))\n",
        "  plt.xlabel(\"# of folds\")\n",
        "  plt.ylabel(\"Max KNN score\")\n",
        "  plt.show()\n",
        "\n",
        "  # Best K for KNN plot\n",
        "  plt.title(\"All KNN scores from the best KFolds\")\n",
        "  plt.plot(range(1, 20, 2), all_scores[-1], label='K = 20')\n",
        "  plt.plot(range(1, 20, 2), all_scores[-2], label='K = 18')\n",
        "  plt.plot(range(1, 20, 2), all_scores[-3], label='K = 16')\n",
        "  plt.legend()\n",
        "  plt.xticks(range(1, 20, 2))\n",
        "  plt.xlabel(\"Value of K\")\n",
        "  plt.ylabel(\"KNN score\")\n",
        "  plt.show()\n"
      ],
      "execution_count": 8,
      "outputs": []
    },
    {
      "cell_type": "markdown",
      "metadata": {
        "id": "cgBD2nuPQ4sJ"
      },
      "source": [
        "# Linear Regression\n",
        "\n",
        "Perform linear regression and predicts prices using that model on test data."
      ]
    },
    {
      "cell_type": "code",
      "metadata": {
        "id": "qge9PnBOQ4sL"
      },
      "source": [
        "# Uses Linear Regression to predict housing price\n",
        "def linear_regression(lr_df, income, house_age, num_rooms, num_bedrooms, population):\n",
        "  X = lr_df.loc[:, [col for col in lr_df.columns[0:5]]].to_numpy(dtype=float)\n",
        "  y = lr_df['Price'].to_numpy(dtype=float)\n",
        "\n",
        "  # Split data into a test and train group\n",
        "  X_train, X_test, y_train, y_test = train_test_split(X, y, test_size=0.2)\n",
        "  reg = LinearRegression()\n",
        "  reg.fit(X_train, y_train)\n",
        "\n",
        "  # Prediction plot\n",
        "  plt.title(f\"Linear Regression Predictions r = {round(reg.score(X_test, y_test), 3)}\")\n",
        "  plt.scatter(y_test, reg.predict(X_test))\n",
        "  plt.xlabel(\"Actual prices (millions)\")\n",
        "  plt.ylabel(\"Predicted prices (millions)\")\n",
        "  plt.show()\n",
        "\n",
        "  # Calculate prediction\n",
        "  lr_result = reg.predict([[income, house_age, num_rooms, num_bedrooms, population]])[0]\n",
        "  print(f\"Linear Regression: ${int(round(lr_result, -4))}\")\n",
        "\n",
        "  return lr_result\n"
      ],
      "execution_count": 9,
      "outputs": []
    },
    {
      "cell_type": "markdown",
      "metadata": {
        "id": "243_mq3MQ4sL"
      },
      "source": [
        "# Prediction Playground"
      ]
    },
    {
      "cell_type": "code",
      "metadata": {
        "id": "TMm3p3z5Q4sM"
      },
      "source": [
        "# Obtain user input, i.e., income, house age, number of rooms, number of bedrooms,\n",
        "# population, and region to perform prediction analysis.\n",
        "def get_input():\n",
        "  print('Obtain housing price predictions.')\n",
        "  while True:\n",
        "    try:\n",
        "      income = float(input('Enter income: '))\n",
        "      house_age = float(input('Enter house age: '))\n",
        "      num_rooms = float(input('Enter number of rooms: '))\n",
        "      num_bedrooms = float(input('Enter number of bedrooms: '))\n",
        "      population = float(input('Enter population: '))\n",
        "    except ValueError: \n",
        "    # if income == \"\" or house_age == \"\" or num_rooms == \"\" or num_bedrooms == \"\" or population == \"\":\n",
        "      print('Invalid input. Try again.')\n",
        "    else:\n",
        "      break\n",
        "  while True:\n",
        "    try:\n",
        "      choice = int(input('Select an Option:\\n1.U.S.\\n2.State\\n3.Region\\n'))\n",
        "      if choice < 1 or choice > 3:\n",
        "        raise ValueError\n",
        "    except ValueError: \n",
        "      print('Invalid input. Try again.')\n",
        "    else:\n",
        "      if choice == 1:\n",
        "        US_df = get_US()\n",
        "        print('House Price Prediction for US:')\n",
        "        # Get prediction models for US\n",
        "        knn(US_df.copy(), income, house_age, num_rooms, num_bedrooms, population)\n",
        "        linear_regression(US_df.copy(), income, house_age, num_rooms, num_bedrooms, population)\n",
        "        break;\n",
        "      elif choice == 2:\n",
        "        state = input('Input a state abbreviation: ').upper()\n",
        "        states = ['ME','VT','NH','MA','CT','RI','NY','PA','NJ','MD','DE','WV','MI',\n",
        "                  'OH','IN','IL','MO','KS','IA','NE','ND','SD','MN','WI','VA','KY',\n",
        "                  'NC','SC','TN','GA','FL','AL','MS','LA','TX','OK','AR','NM','AZ',\n",
        "                  'CA','CO','UT','NV','WY','ID','OR','WA','MT','AK','HI']\n",
        "        while state not in states:\n",
        "          print('Invalid input. Try again.')\n",
        "          state = input('Input a state abbreviation: ').upper()\n",
        "        state_df = get_state(state)\n",
        "        print('House Prediction for ' + state + \": \")\n",
        "        # Get prediction models for state\n",
        "        knn(state_df.copy(), income, house_age, num_rooms, num_bedrooms, population)\n",
        "        linear_regression(state_df.copy(), income, house_age, num_rooms, num_bedrooms, population)\n",
        "        break;\n",
        "      elif choice == 3:\n",
        "        region = input('Input a region (northeast, midwest, south, west):\\n').lower()\n",
        "        regions = ['northeast', 'midwest', 'south', 'west']\n",
        "        while region not in regions:\n",
        "          print('Invalid input. Try again.')\n",
        "          region = input('Input a region: ').lower()\n",
        "        region_df = get_region(region)\n",
        "        print('House Prediction for ' + region + \": \")\n",
        "        # Get prediction models for region\n",
        "        knn(region_df.copy(), income, house_age, num_rooms, num_bedrooms, population)\n",
        "        linear_regression(region_df.copy(), income, house_age, num_rooms, num_bedrooms, population)      \n",
        "        break;\n"
      ],
      "execution_count": 10,
      "outputs": []
    },
    {
      "cell_type": "code",
      "metadata": {
        "colab": {
          "base_uri": "https://localhost:8080/",
          "height": 1000
        },
        "id": "ztkQ_KUN7zs0",
        "outputId": "3dc33b3f-b0e4-4f6e-be1a-6d7ef706f264"
      },
      "source": [
        "get_input()"
      ],
      "execution_count": 11,
      "outputs": [
        {
          "output_type": "stream",
          "name": "stdout",
          "text": [
            "Obtain housing price predictions.\n",
            "Enter income: 80000\n",
            "Enter house age: 6\n",
            "Enter number of rooms: 7\n",
            "Enter number of bedrooms: 3\n",
            "Enter population: 35000\n",
            "Select an Option:\n",
            "1.U.S.\n",
            "2.State\n",
            "3.Region\n",
            "1\n",
            "House Price Prediction for US:\n"
          ]
        },
        {
          "output_type": "display_data",
          "data": {
            "image/png": "[encoded data removed]",
            "text/plain": [
              "<Figure size 432x288 with 1 Axes>"
            ]
          },
          "metadata": {
            "needs_background": "light"
          }
        },
        {
          "output_type": "display_data",
          "data": {
            "image/png": "[encoded data removed]",
            "text/plain": [
              "<Figure size 432x288 with 1 Axes>"
            ]
          },
          "metadata": {
            "needs_background": "light"
          }
        },
        {
          "output_type": "stream",
          "name": "stdout",
          "text": [
            "KNN: $2100000.0 - $2250000.0 | Classifier output: 14.0\n"
          ]
        },
        {
          "output_type": "display_data",
          "data": {
            "image/png": "[encoded data removed]",
            "text/plain": [
              "<Figure size 432x288 with 1 Axes>"
            ]
          },
          "metadata": {
            "needs_background": "light"
          }
        },
        {
          "output_type": "stream",
          "name": "stdout",
          "text": [
            "Linear Regression: $1460000\n"
          ]
        }
      ]
    }
  ]
}